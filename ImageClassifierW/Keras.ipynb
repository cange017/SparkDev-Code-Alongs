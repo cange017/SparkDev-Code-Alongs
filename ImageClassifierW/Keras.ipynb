{
  "nbformat": 4,
  "nbformat_minor": 0,
  "metadata": {
    "colab": {
      "name": "Untitled3.ipynb",
      "provenance": [],
      "include_colab_link": true
    },
    "kernelspec": {
      "name": "python3",
      "display_name": "Python 3"
    }
  },
  "cells": [
    {
      "cell_type": "markdown",
      "metadata": {
        "id": "view-in-github",
        "colab_type": "text"
      },
      "source": [
        "<a href=\"https://colab.research.google.com/github/cange017/SparkDev-Code-Alongs/blob/master/ImageClassifierW/Keras.ipynb\" target=\"_parent\"><img src=\"https://colab.research.google.com/assets/colab-badge.svg\" alt=\"Open In Colab\"/></a>"
      ]
    },
    {
      "cell_type": "code",
      "metadata": {
        "id": "Gskksl15EdiA",
        "colab_type": "code",
        "colab": {}
      },
      "source": [
        "# MNIST data image classfier with keras\n",
        "\n",
        "#load the dataset\n",
        "from keras.datasets import mnist \n",
        "(train_images, train_labels), (test_images, test_labels) = mnist.load_data()\n",
        "from keras import models\n",
        "from keras import layers\n"
      ],
      "execution_count": 0,
      "outputs": []
    },
    {
      "cell_type": "code",
      "metadata": {
        "id": "Kv_8iMB5E_PB",
        "colab_type": "code",
        "colab": {}
      },
      "source": [
        "#create a sequential model\n",
        "network = models.Sequential()\n",
        "# layer one with 512 nodes (arbitrary) and relu as activation function, input_shape is the input dimension expected by the layer\n",
        "# here, it is 28 by 28 pixel, flattened to 784 x 1 vector\n",
        "network.add(layers.Dense(512, activation='relu',input_shape=(28*28,)))\n",
        "#output layer \n",
        "network.add(layers.Dense(10, activation='softmax'))\n",
        "\n",
        "#compile the network by providing the optimizer, loss function and the metrics to monitor\n",
        "network.compile(optimizer='rmsprop', loss='categorical_crossentropy', metrics=['accuracy'])\n",
        "\n"
      ],
      "execution_count": 0,
      "outputs": []
    },
    {
      "cell_type": "code",
      "metadata": {
        "id": "kcUoBDHJFE_v",
        "colab_type": "code",
        "colab": {}
      },
      "source": [
        "#flatten out the input data into a 784x1 vector, convert pixel values from uint8 to float32, and range from \n",
        "# 0 255 to the interval [0,1]\n",
        "train_images = train_images.reshape((60000,28*28))\n",
        "train_images = train_images.astype('float32') / 255\n",
        "\n",
        "test_images = test_images.reshape((10000,28*28))\n",
        "test_images = test_images.astype('float32') / 255\n"
      ],
      "execution_count": 0,
      "outputs": []
    },
    {
      "cell_type": "code",
      "metadata": {
        "id": "RoO4CyCvFHsp",
        "colab_type": "code",
        "colab": {}
      },
      "source": [
        "#convert the labels to one hot vector form\n",
        "#Example , if there are 3 classes 1,2 and 3, the one hot vector representation would be like\n",
        "# class 1 => [1, 0, 0]\n",
        "# class 2 => [0, 1, 0]\n",
        "# class 3 => [0, 0, 1]\n",
        "from keras.utils import to_categorical\n",
        "train_labels = to_categorical(train_labels)\n",
        "test_labels = to_categorical(test_labels)\n",
        "\n"
      ],
      "execution_count": 0,
      "outputs": []
    },
    {
      "cell_type": "code",
      "metadata": {
        "id": "8gcey5CeFNEu",
        "colab_type": "code",
        "colab": {
          "base_uri": "https://localhost:8080/",
          "height": 222
        },
        "outputId": "2d7aa2e3-4e98-430d-9ba4-aef66ce67789"
      },
      "source": [
        "#epochs is the number of iterations over the entire dataset\n",
        "network.fit(train_images, train_labels, epochs=5, batch_size=128)\n",
        "\n"
      ],
      "execution_count": 7,
      "outputs": [
        {
          "output_type": "stream",
          "text": [
            "Epoch 1/5\n",
            "60000/60000 [==============================] - 4s 69us/step - loss: 0.1085 - acc: 0.9675\n",
            "Epoch 2/5\n",
            "60000/60000 [==============================] - 4s 71us/step - loss: 0.0705 - acc: 0.9789\n",
            "Epoch 3/5\n",
            "60000/60000 [==============================] - 4s 69us/step - loss: 0.0507 - acc: 0.9847\n",
            "Epoch 4/5\n",
            "60000/60000 [==============================] - 4s 68us/step - loss: 0.0385 - acc: 0.9885\n",
            "Epoch 5/5\n",
            "60000/60000 [==============================] - 4s 69us/step - loss: 0.0294 - acc: 0.9910\n"
          ],
          "name": "stdout"
        },
        {
          "output_type": "execute_result",
          "data": {
            "text/plain": [
              "<keras.callbacks.History at 0x7f9b8d51bf60>"
            ]
          },
          "metadata": {
            "tags": []
          },
          "execution_count": 7
        }
      ]
    },
    {
      "cell_type": "code",
      "metadata": {
        "id": "JSMw3Z0zFQtk",
        "colab_type": "code",
        "colab": {
          "base_uri": "https://localhost:8080/",
          "height": 50
        },
        "outputId": "833b4801-1e4c-4d3c-e008-716191ddddc0"
      },
      "source": [
        "# Evaluate the model on the test data.\n",
        "test_loss, test_acc = network.evaluate(test_images, test_labels)\n",
        "\n",
        "print('test accuracy: ', test_acc)"
      ],
      "execution_count": 8,
      "outputs": [
        {
          "output_type": "stream",
          "text": [
            "10000/10000 [==============================] - 1s 50us/step\n",
            "test accuracy:  0.9791\n"
          ],
          "name": "stdout"
        }
      ]
    }
  ]
}