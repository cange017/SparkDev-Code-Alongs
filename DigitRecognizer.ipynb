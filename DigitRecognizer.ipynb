{
  "nbformat": 4,
  "nbformat_minor": 0,
  "metadata": {
    "colab": {
      "name": "Untitled3.ipynb",
      "provenance": [],
      "include_colab_link": true
    },
    "kernelspec": {
      "name": "python3",
      "display_name": "Python 3"
    }
  },
  "cells": [
    {
      "cell_type": "markdown",
      "metadata": {
        "id": "view-in-github",
        "colab_type": "text"
      },
      "source": [
        "<a href=\"https://colab.research.google.com/github/cange017/SparkDev-Code-Alongs/blob/master/ImageClassifier.ipynb\" target=\"_parent\"><img src=\"https://colab.research.google.com/assets/colab-badge.svg\" alt=\"Open In Colab\"/></a>"
      ]
    },
    {
      "cell_type": "code",
      "metadata": {
        "id": "Gskksl15EdiA",
        "colab_type": "code",
        "colab": {}
      },
      "source": [
        "# MNIST data image classfier with keras\n",
        "\n",
        "# 1. load the dataset and libraries\n",
        "from keras.datasets import mnist \n",
        "(train_images, train_labels), (test_images, test_labels) = mnist.load_data()\n",
        "from keras import models\n",
        "from keras import layers"
      ],
      "execution_count": 0,
      "outputs": []
    },
    {
      "cell_type": "code",
      "metadata": {
        "id": "kcUoBDHJFE_v",
        "colab_type": "code",
        "colab": {}
      },
      "source": [
        "# 2. Preprocess the data\n",
        "#flatten out the input data into a 784x1 vector, convert pixel values from uint8 to float32, and range from \n",
        "# 0 255 to the interval [0,1]\n",
        "train_images = train_images.reshape((60000,28*28))\n",
        "train_images = train_images.astype('float32') / 255\n",
        "\n",
        "test_images = test_images.reshape((10000,28*28))\n",
        "test_images = test_images.astype('float32') / 255\n"
      ],
      "execution_count": 0,
      "outputs": []
    },
    {
      "cell_type": "code",
      "metadata": {
        "id": "Kv_8iMB5E_PB",
        "colab_type": "code",
        "colab": {}
      },
      "source": [
        "# 3. Create the model, in this case, we will use a sequential one\n",
        "network = models.Sequential()\n",
        "\n",
        "# make two layer-neural network\n",
        "# layer one with 512 nodes (arbitrary) and relu as activation function, input_shape is the input dimension expected by the layer\n",
        "# here, it is 28 by 28 pixel, flattened to 784 x 1 vector\n",
        "network.add(layers.Dense(512, activation='relu',input_shape=(28*28,)))\n",
        "\n",
        "# output layer \n",
        "network.add(layers.Dense(10, activation='softmax'))\n",
        "\n",
        "#compile the network by providing the optimizer, loss function and the metrics to monitor\n",
        "network.compile(optimizer='rmsprop', loss='categorical_crossentropy', metrics=['accuracy'])\n",
        "\n"
      ],
      "execution_count": 0,
      "outputs": []
    },
    {
      "cell_type": "code",
      "metadata": {
        "id": "RoO4CyCvFHsp",
        "colab_type": "code",
        "colab": {
          "base_uri": "https://localhost:8080/",
          "height": 134
        },
        "outputId": "59a15941-efaa-46a3-c4ae-81fce6f30940"
      },
      "source": [
        "# 4. One-hot encoding to binarize the data to better predict\n",
        "# convert the labels to one hot vector form to convert\n",
        "# Example , the one hot vector representation for 0, 1, and 2 would look like:\n",
        "# class 0 => [1, 0, 0, 0, 0, 0, 0, 0, 0, 0]\n",
        "# class 1 => [0, 1, 0, 0, 0, 0, 0, 0, 0, 0]\n",
        "# class 2 => [0, 0, 1, 0, 0, 0, 0, 0, 0, 0]\n",
        "# dimension equals number of classes (10)\n",
        "# every value in the vector is zero except for the index that corresponds to that particular digit\n",
        "from keras.utils import to_categorical\n",
        "\n",
        "train_labels = to_categorical(train_labels)\n",
        "test_labels = to_categorical(test_labels)\n",
        "\n",
        "print(train_labels)\n"
      ],
      "execution_count": 27,
      "outputs": [
        {
          "output_type": "stream",
          "text": [
            "[[0. 0. 0. ... 0. 0. 0.]\n",
            " [1. 0. 0. ... 0. 0. 0.]\n",
            " [0. 0. 0. ... 0. 0. 0.]\n",
            " ...\n",
            " [0. 0. 0. ... 0. 0. 0.]\n",
            " [0. 0. 0. ... 0. 0. 0.]\n",
            " [0. 0. 0. ... 0. 1. 0.]]\n"
          ],
          "name": "stdout"
        }
      ]
    },
    {
      "cell_type": "code",
      "metadata": {
        "id": "8gcey5CeFNEu",
        "colab_type": "code",
        "colab": {
          "base_uri": "https://localhost:8080/",
          "height": 222
        },
        "outputId": "4fd86ec7-ca99-4bf0-c58f-295ec266365a"
      },
      "source": [
        "# 5. Train the model\n",
        "\n",
        "# epochs is the number of times you iterate over the entire dataset\n",
        "network.fit(train_images, train_labels, epochs=5, batch_size=128)"
      ],
      "execution_count": 28,
      "outputs": [
        {
          "output_type": "stream",
          "text": [
            "Epoch 1/5\n",
            "60000/60000 [==============================] - 4s 68us/step - loss: 0.2553 - acc: 0.9266\n",
            "Epoch 2/5\n",
            "60000/60000 [==============================] - 4s 67us/step - loss: 0.1023 - acc: 0.9703\n",
            "Epoch 3/5\n",
            "60000/60000 [==============================] - 4s 66us/step - loss: 0.0681 - acc: 0.9805\n",
            "Epoch 4/5\n",
            "60000/60000 [==============================] - 4s 65us/step - loss: 0.0489 - acc: 0.9851\n",
            "Epoch 5/5\n",
            "60000/60000 [==============================] - 4s 68us/step - loss: 0.0372 - acc: 0.9889\n"
          ],
          "name": "stdout"
        },
        {
          "output_type": "execute_result",
          "data": {
            "text/plain": [
              "<keras.callbacks.History at 0x7f9b8d3a5cf8>"
            ]
          },
          "metadata": {
            "tags": []
          },
          "execution_count": 28
        }
      ]
    },
    {
      "cell_type": "code",
      "metadata": {
        "id": "JSMw3Z0zFQtk",
        "colab_type": "code",
        "colab": {
          "base_uri": "https://localhost:8080/",
          "height": 50
        },
        "outputId": "d91c145a-11e3-4e0c-d284-aec260f6315e"
      },
      "source": [
        "# 6. Evaluate the model on the test data.\n",
        "test_loss, test_acc = network.evaluate(test_images, test_labels)\n",
        "\n",
        "print('test accuracy: ', test_acc)"
      ],
      "execution_count": 29,
      "outputs": [
        {
          "output_type": "stream",
          "text": [
            "10000/10000 [==============================] - 1s 54us/step\n",
            "test accuracy:  0.9785\n"
          ],
          "name": "stdout"
        }
      ]
    }
  ]
}
